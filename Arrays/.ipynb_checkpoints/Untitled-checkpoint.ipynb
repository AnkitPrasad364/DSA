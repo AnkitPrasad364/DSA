{
 "cells": [
  {
   "cell_type": "code",
   "execution_count": 2,
   "id": "a9611d5d-c052-467f-a837-8fd6814494b7",
   "metadata": {},
   "outputs": [
    {
     "name": "stdout",
     "output_type": "stream",
     "text": [
      "Linear Search: Element found at index\n",
      "Binary Search: Element found at index\n"
     ]
    }
   ],
   "source": [
    "#searching an element in array\n",
    "def linear_search(arr, target):\n",
    "    for i in range(len(arr)):\n",
    "        if arr[i] == target:\n",
    "            return i  # Return index if found\n",
    "    return -1  # Not found\n",
    "\n",
    "#binary search\n",
    "def binary_search(arr,target):\n",
    "    low,high=0,len(arr)-1\n",
    "    while low<=high:\n",
    "        mid=(low+high)//2\n",
    "        if arr[mid]==target:\n",
    "            return mid\n",
    "        if arr[mid]>target:\n",
    "            high=mid-1\n",
    "        else :\n",
    "            low=mid+1\n",
    "    return -1\n",
    "\n",
    "arr_unsorted = [34, 7, 23, 32, 5, 62]\n",
    "arr_sorted = [5, 7, 23, 32, 34, 62]\n",
    "target = 23\n",
    "\n",
    "# Linear search on unsorted array\n",
    "index_linear = linear_search(arr_unsorted, target)\n",
    "print(\"Linear Search: Element found at index\" if index_linear != -1 else \"Element not found\")\n",
    "\n",
    "# Binary search on sorted array\n",
    "index_binary = binary_search(arr_sorted, target)\n",
    "print(\"Binary Search: Element found at index\" if index_binary != -1 else \"Element not found\")"
   ]
  },
  {
   "cell_type": "code",
   "execution_count": 2,
   "id": "cf770418-4d0e-4816-b300-5cd4bf74e165",
   "metadata": {},
   "outputs": [
    {
     "name": "stdout",
     "output_type": "stream",
     "text": [
      "True\n",
      "Not sorted\n",
      "False\n"
     ]
    }
   ],
   "source": [
    "#Naive solution\n",
    "\n",
    "def is_sorted(arr):\n",
    "    n = len(arr)  # Get the length of the array\n",
    "\n",
    "    # Loop through the array from index 0 to n-2\n",
    "    for i in range(n - 1):\n",
    "        # If the current element is greater than the next one, array is not sorted\n",
    "        if arr[i] > arr[i + 1]:\n",
    "            print(\"Not sorted\")  # Optional: prints message if not sorted\n",
    "            return False         # Return False immediately if disorder is found\n",
    "\n",
    "    # If the loop completes without finding a disorder, the array is sorted\n",
    "    return True\n",
    "print(is_sorted([1, 2, 3, 4]))  # Output: True\n",
    "print(is_sorted([5, 3, 2]))     # Output: Not sorted, then False"
   ]
  },
  {
   "cell_type": "code",
   "execution_count": 4,
   "id": "4c2e7f29-7bca-42d4-a409-0e4318c0094c",
   "metadata": {},
   "outputs": [
    {
     "name": "stdout",
     "output_type": "stream",
     "text": [
      "[10, 20, 25, 30, 40]\n"
     ]
    }
   ],
   "source": [
    "#inserting an element in array\n",
    "def insert_at_position(arr, element, position):\n",
    "    if position < 0 or position > len(arr):\n",
    "        print(\"Invalid position!\")\n",
    "        return arr\n",
    "    \n",
    "    arr.append(0)  # Increase size by 1\n",
    "    for i in range(len(arr) - 1, position, -1):\n",
    "        arr[i] = arr[i - 1]\n",
    "    arr[position] = element\n",
    "    return arr\n",
    "\n",
    "# Example\n",
    "arr = [10, 20, 30, 40]\n",
    "insert_at_position(arr, 25, 2)\n",
    "print(arr)"
   ]
  },
  {
   "cell_type": "code",
   "execution_count": 9,
   "id": "dbd51615-853f-41ff-90e6-b4949c670b48",
   "metadata": {},
   "outputs": [
    {
     "name": "stdout",
     "output_type": "stream",
     "text": [
      "[5, 4, 3, 2, 1]\n"
     ]
    }
   ],
   "source": [
    "#Reverse an array\n",
    "#shortcut method\n",
    "def reverse_array(arr):\n",
    "    return arr[::-1]#it takes O(n) space complexity\n",
    "\n",
    "#traditional method\n",
    "def reverse_array(arr):\n",
    "    low = 0\n",
    "    high = len(arr) - 1\n",
    "\n",
    "    while low < high:\n",
    "        # Swap elements at low and high\n",
    "        arr[low], arr[high] = arr[high], arr[low]\n",
    "        # Move the pointers\n",
    "        low += 1\n",
    "        high -= 1       #it takes constant space complexity\n",
    "\n",
    "    return arr\n",
    "print(reverse_array([1, 2, 3, 4, 5]))  # Output: [5, 4, 3, 2, 1]"
   ]
  },
  {
   "cell_type": "code",
   "execution_count": 6,
   "id": "8d045f1d-5dfd-4aaa-b373-a9f264b9309a",
   "metadata": {},
   "outputs": [
    {
     "name": "stdout",
     "output_type": "stream",
     "text": [
      "[10, 20, 40, 50]\n"
     ]
    }
   ],
   "source": [
    "#delete an element from array\n",
    "def delete_element(arr, target):\n",
    "    index = -1\n",
    "    for i in range(len(arr)):\n",
    "        if arr[i] == target:\n",
    "            index = i\n",
    "            break\n",
    "    if index == -1:\n",
    "        print(\"Element not found!\")\n",
    "        return arr\n",
    "    \n",
    "    for i in range(index, len(arr) - 1):\n",
    "        arr[i] = arr[i + 1]\n",
    "    \n",
    "    arr.pop()  # Remove last redundant element\n",
    "    return arr\n",
    "\n",
    "# Example\n",
    "arr = [10, 20, 30, 40, 50]\n",
    "print(delete_element(arr, 30))"
   ]
  },
  {
   "cell_type": "code",
   "execution_count": 19,
   "id": "aa861d6e-a62d-4d2a-9c35-56af85a66beb",
   "metadata": {},
   "outputs": [
    {
     "name": "stdout",
     "output_type": "stream",
     "text": [
      "[1, 2, 3, 4, 5]\n"
     ]
    }
   ],
   "source": [
    "#Remove duplicate elements from  array\n",
    "#shortcut method\n",
    "def remove_duplicates(arr):\n",
    "    return list(set(arr))\n",
    "\n",
    "#Naive solution\n",
    "def remove_duplicates_naive(arr):\n",
    "    n = len(arr)\n",
    "    result = []  # New array to store distinct elements\n",
    "\n",
    "    for i in range(n):\n",
    "        if arr[i] not in result:\n",
    "            result.append(arr[i])  # Add only if not already in result\n",
    "\n",
    "    # Copy back to original array (optional, if required)\n",
    "    for i in range(len(result)):\n",
    "        arr[i] = result[i]\n",
    "\n",
    "    # Trim the array to only the unique elements\n",
    "    return arr[:len(result)]\n",
    "\n",
    "#optmal solution\n",
    "def remove_duplicates_sorted(arr):\n",
    "    # Edge case: if the array is empty, return an empty list\n",
    "    if not arr:\n",
    "        return []\n",
    "\n",
    "    # Pointer `j` will keep track of the last unique element's position\n",
    "    j = 0\n",
    "\n",
    "    # Loop starts from 1 because we compare each element with the previous unique one\n",
    "    for i in range(1, len(arr)):\n",
    "        # If the current element is not equal to the last unique element\n",
    "        if arr[i] != arr[j]:\n",
    "            j += 1               # Move the pointer `j` to the next position\n",
    "            arr[j] = arr[i]      # Overwrite the duplicate with the new unique element\n",
    "\n",
    "    # After the loop ends, the first (j + 1) elements of `arr` are unique\n",
    "    return arr[:j + 1]\n",
    "print(remove_duplicates([1, 2,4,5, 2, 3, 1]))  # Output: [1, 2, 3] (order not guaranteed)"
   ]
  },
  {
   "cell_type": "code",
   "execution_count": 29,
   "id": "4bbba445-3f54-4127-9227-51284848e5d4",
   "metadata": {},
   "outputs": [
    {
     "name": "stdout",
     "output_type": "stream",
     "text": [
      "[1, 3, 12, 0, 0]\n",
      "[1, 3, 12, 0, 0]\n"
     ]
    }
   ],
   "source": [
    "#Move zeroes to end of array\n",
    "\n",
    "def move_zeroes_naive(arr):\n",
    "    n=len(arr)\n",
    "    for i in range(n):\n",
    "        if arr[i]==0:\n",
    "            for j in range(i+1,n):\n",
    "                if arr[j]!=0:\n",
    "                    arr[i],arr[j]=arr[j],arr[i]\n",
    "                    break\n",
    "    return arr\n",
    "\n",
    "arr = [0, 1, 0, 3, 12]\n",
    "print(move_zeroes_naive(arr))\n",
    "\n",
    "def move_zeroes_optimal(arr):\n",
    "    n=len(arr)\n",
    "    j=0\n",
    "    for i in range(n):\n",
    "        if arr[i]!=0:\n",
    "            arr[i],arr[j]=arr[j],arr[i]\n",
    "            j+=1\n",
    "    return arr\n",
    "\n",
    "print(move_zeroes_naive(arr))\n",
    "\n",
    "# Output: [1, 3, 12, 0, 0]"
   ]
  },
  {
   "cell_type": "code",
   "execution_count": null,
   "id": "fa010fa7-c8a4-4a6f-afb9-cc9cd5f53067",
   "metadata": {},
   "outputs": [],
   "source": [
    "#Left rotate an array by d places\n",
    "def left_rotate(arr,d):\n",
    "    d=d%len(arr)\n",
    "    return arr[d:]+arr[:d]"
   ]
  },
  {
   "cell_type": "code",
   "execution_count": null,
   "id": "7cc1a6c1-33e3-427e-8ab3-737be030dafa",
   "metadata": {},
   "outputs": [],
   "source": [
    "#finding leaders in array\n",
    "def leaders(arr):\n",
    "    n = len(arr)\n",
    "    leaderarr = []\n",
    "    max_from_right = arr[-1]\n",
    "    leaderarr.append(max_from_right)\n",
    "\n",
    "    for i in range(n - 2, -1, -1):\n",
    "        if arr[i] > max_from_right:\n",
    "            leaderarr.append(arr[i])\n",
    "            max_from_right = arr[i]\n",
    "\n",
    "    return leaderarr[::-1]  # Reverse to maintain original order"
   ]
  },
  {
   "cell_type": "code",
   "execution_count": 8,
   "id": "0dda1a65-91cd-4b2c-aa8c-dc98be18c6c6",
   "metadata": {},
   "outputs": [
    {
     "name": "stdout",
     "output_type": "stream",
     "text": [
      "Maximum difference: 8\n"
     ]
    }
   ],
   "source": [
    "#maximum difference in an array\n",
    "\n",
    "def max_difference(arr):\n",
    "    if len(arr) < 2:\n",
    "        return 0  # or float('-inf'), depending on use case\n",
    "\n",
    "    min_element = arr[0]\n",
    "    max_diff = arr[1] - arr[0]\n",
    "\n",
    "    for i in range(1, len(arr)):\n",
    "        max_diff = max(max_diff, arr[i] - min_element)\n",
    "        min_element = min(min_element, arr[i])\n",
    "\n",
    "    return max_diff\n",
    "\n",
    "arr = [2, 3, 10, 6, 4, 8, 1]\n",
    "print(\"Maximum difference:\", max_difference(arr))"
   ]
  },
  {
   "cell_type": "code",
   "execution_count": null,
   "id": "239b605e-de93-407c-810a-858075a9d382",
   "metadata": {},
   "outputs": [],
   "source": [
    "#frequencies of element in an array\n",
    "\n",
    "def freq(arr):\n",
    "    freq={}\n",
    "    for num in arr:\n",
    "        freq[num=freq.get(num,0)+1\n",
    "    return freq\n",
    "\n",
    "#alterante approach\n",
    "from collections import Counter\n",
    "arr = [1, 2, 2, 3, 1, 4, 2, 3]\n",
    "freq = Counter(arr)\n",
    "print(freq)"
   ]
  },
  {
   "cell_type": "code",
   "execution_count": 2,
   "id": "32db3615-218c-4a9f-a856-bbcb9524bf8b",
   "metadata": {},
   "outputs": [],
   "source": [
    "#Stock buy and sell at max profit with unlimited number of transactions\n",
    "\n",
    "def max_profit(prices):\n",
    "    profit = 0\n",
    "    for i in range(1, len(prices)):\n",
    "        if prices[i] > prices[i-1]:\n",
    "            profit += prices[i] - prices[i-1]\n",
    "    return profit\n",
    "prices = [1, 2, 3, 4, 5]"
   ]
  },
  {
   "cell_type": "code",
   "execution_count": null,
   "id": "41668be6-ff05-454e-a438-f38c6f2e26d2",
   "metadata": {},
   "outputs": [],
   "source": [
    "#Max consecutive 1's\n",
    "def max_conse_one(arr):\n",
    "    res=0\n",
    "    curr=0\n",
    "    for i in range(len(arr)):\n",
    "        if arr[i]==0:\n",
    "            curr=0\n",
    "        else:\n",
    "            curr+=1\n",
    "            res=max(res,curr)\n",
    "    return res"
   ]
  },
  {
   "cell_type": "code",
   "execution_count": null,
   "id": "a4124fd8-cbcd-437e-ae30-4baf7eaa3c01",
   "metadata": {},
   "outputs": [],
   "source": [
    "#Max subarray sum\n",
    "def max_subarray_sum(arr):\n",
    "    max_ending=arr[0]\n",
    "    res=arr[0]\n",
    "    for i in range(1,len(arr)):\n",
    "        max_ending=max(max_ending+arr[i],arr[i])\n",
    "        res=max(res,max_ending)\n",
    "    return res"
   ]
  },
  {
   "cell_type": "code",
   "execution_count": 15,
   "id": "e346477e-7ee5-409c-bd55-ee3d7e723e8d",
   "metadata": {},
   "outputs": [
    {
     "name": "stdout",
     "output_type": "stream",
     "text": [
      "3\n"
     ]
    }
   ],
   "source": [
    "#Max odd even element length\n",
    "def max_odd_even(arr):\n",
    "    if not arr:\n",
    "        return 0\n",
    "    res=1\n",
    "    curr=1\n",
    "    for i in range(1,len(arr)):\n",
    "       if (arr[i]%2==0 and arr[i-1]%2!=0) or (arr[i]%2!=0 and arr[i-1]%2==0):\n",
    "            curr+=1\n",
    "            res=max(curr,res)\n",
    "       else :\n",
    "            curr=1\n",
    "    return res\n",
    "print(max_odd_even([5, 10, 20, 6, 3, 8]))  # Output: 3\n",
    "# Longest alternating subarray: [6, 3, 8]"
   ]
  },
  {
   "cell_type": "code",
   "execution_count": 7,
   "id": "47f73ff0-b1c6-4c99-91ab-87fd8298f30d",
   "metadata": {},
   "outputs": [
    {
     "name": "stdout",
     "output_type": "stream",
     "text": [
      "10\n"
     ]
    }
   ],
   "source": [
    "#Maximum circular subarray sum\n",
    "def max_subarray_sum_circular(arr):\n",
    "    # Standard Kadane's Algorithm to find maximum subarray sum in non-circular case\n",
    "    def kadane(nums):\n",
    "        max_ending = max_so_far = nums[0]\n",
    "        for x in nums[1:]:\n",
    "            max_ending = max(x, max_ending + x)  # either extend current subarray or start new\n",
    "            max_so_far = max(max_so_far, max_ending)\n",
    "        return max_so_far\n",
    "\n",
    "    total_sum = sum(arr)  # Total sum of original array\n",
    "\n",
    "    max_kadane = kadane(arr)  # Case 1: max subarray sum without wrapping\n",
    "\n",
    "    # To handle circular case, find minimum subarray sum using Kadane on inverted array\n",
    "    # Why inverted? min_subarray_sum = - max_subarray_sum of [-arr[0], -arr[1], ...]\n",
    "    inverted_arr = [-x for x in arr]\n",
    "    min_subarray_sum = kadane(inverted_arr)\n",
    "\n",
    "    # Case 2: max subarray sum with wrapping = total sum - min subarray sum\n",
    "    max_wraparound = total_sum + min_subarray_sum\n",
    "\n",
    "    # If all elements are negative, max_wraparound becomes 0 (which is invalid),\n",
    "    # so return the non-wrapped maximum in that case.\n",
    "    if max_wraparound == 0:\n",
    "        return max_kadane\n",
    "\n",
    "    # Return the maximum of wrapped and non-wrapped cases\n",
    "    return max(max_kadane, max_wraparound)\n",
    "arr = [5, -3, 5]\n",
    "print(max_subarray_sum_circular(arr))  # Output: 10"
   ]
  },
  {
   "cell_type": "code",
   "execution_count": 9,
   "id": "3af9f0b8-1917-4a53-b57c-1c01e0559e69",
   "metadata": {},
   "outputs": [
    {
     "name": "stdout",
     "output_type": "stream",
     "text": [
      "3\n"
     ]
    }
   ],
   "source": [
    "#Majority element in an array\n",
    "def majority_element(arr):\n",
    "    n = len(arr)\n",
    "    for x in set(arr):  # loop over unique elements only\n",
    "        if arr.count(x) > n // 2:\n",
    "            return x\n",
    "    return None  # if no majority element found\n",
    "arr = [3, 3, 4, 2, 3, 3, 3]\n",
    "print(majority_element(arr))  # Output: 3"
   ]
  },
  {
   "cell_type": "code",
   "execution_count": null,
   "id": "b97bda57-ddd5-4e3b-abd9-7eedaba41b62",
   "metadata": {},
   "outputs": [],
   "source": []
  }
 ],
 "metadata": {
  "kernelspec": {
   "display_name": "Python [conda env:base] *",
   "language": "python",
   "name": "conda-base-py"
  },
  "language_info": {
   "codemirror_mode": {
    "name": "ipython",
    "version": 3
   },
   "file_extension": ".py",
   "mimetype": "text/x-python",
   "name": "python",
   "nbconvert_exporter": "python",
   "pygments_lexer": "ipython3",
   "version": "3.12.7"
  }
 },
 "nbformat": 4,
 "nbformat_minor": 5
}
