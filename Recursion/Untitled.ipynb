{
 "cells": [
  {
   "cell_type": "code",
   "execution_count": 16,
   "id": "f73f462a-7275-4a13-8e83-c6082ccd9e9c",
   "metadata": {},
   "outputs": [
    {
     "name": "stdout",
     "output_type": "stream",
     "text": [
      "Iterative Binary Search: Element 7 found at index 3\n",
      "Recursive Binary Search: Element 7 found at index 3\n"
     ]
    }
   ],
   "source": [
    "# Iterative Binary Search\n",
    "def binary_search_iterative(arr, element):\n",
    "    low = 0\n",
    "    high = len(arr) - 1\n",
    "    while low <= high:\n",
    "        mid = (low + high) // 2\n",
    "        if arr[mid] == element:\n",
    "            return mid\n",
    "        elif arr[mid] > element:\n",
    "            high = mid - 1\n",
    "        else:\n",
    "            low = mid + 1\n",
    "    return -1  # Element not found\n",
    "\n",
    "# Recursive Binary Search\n",
    "def binary_search_recursive(arr, low, high, target):\n",
    "    if low > high:\n",
    "        return -1  # Element not found\n",
    "\n",
    "    mid = (low + high) // 2\n",
    "\n",
    "    if arr[mid] == target:\n",
    "        return mid\n",
    "    elif arr[mid] > target:\n",
    "        return binary_search_recursive(arr, low, mid - 1, target)\n",
    "    else:\n",
    "        return binary_search_recursive(arr, mid + 1, high, target)\n",
    "\n",
    "# Example usage\n",
    "arr = [1, 3, 5, 7, 9, 11]\n",
    "target = 7\n",
    "\n",
    "# Test the iterative version\n",
    "result_iterative = binary_search_iterative(arr, target)\n",
    "print(f\"Iterative Binary Search: Element {target} found at index {result_iterative}\")\n",
    "\n",
    "# Test the recursive version\n",
    "result_recursive = binary_search_recursive(arr, 0, len(arr) - 1, target)\n",
    "print(f\"Recursive Binary Search: Element {target} found at index {result_recursive}\")"
   ]
  },
  {
   "cell_type": "code",
   "execution_count": null,
   "id": "6eabfae2-d023-479a-a94d-59273a0ec95f",
   "metadata": {},
   "outputs": [],
   "source": []
  }
 ],
 "metadata": {
  "kernelspec": {
   "display_name": "Python [conda env:base] *",
   "language": "python",
   "name": "conda-base-py"
  },
  "language_info": {
   "codemirror_mode": {
    "name": "ipython",
    "version": 3
   },
   "file_extension": ".py",
   "mimetype": "text/x-python",
   "name": "python",
   "nbconvert_exporter": "python",
   "pygments_lexer": "ipython3",
   "version": "3.12.7"
  }
 },
 "nbformat": 4,
 "nbformat_minor": 5
}
