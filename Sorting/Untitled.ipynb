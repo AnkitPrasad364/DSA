{
 "cells": [
  {
   "cell_type": "code",
   "execution_count": 4,
   "id": "f4056cb7-43cc-45e1-90aa-53f3e4a2e4c8",
   "metadata": {},
   "outputs": [],
   "source": [
    "#Bubble sort\n",
    "# Bubble Sort Function\n",
    "def bubble_sort(arr):\n",
    "    n = len(arr)\n",
    "    \n",
    "    # Outer loop for each pass\n",
    "    for i in range(n-1):\n",
    "        \n",
    "        # Inner loop for comparing adjacent elements\n",
    "        for j in range(n-1-i):\n",
    "            if arr[j] > arr[j+1]:\n",
    "                # Swap if elements are in wrong order\n",
    "                arr[j], arr[j+1] = arr[j+1], arr[j]"
   ]
  },
  {
   "cell_type": "code",
   "execution_count": 6,
   "id": "e70c5dbf-02cb-4e98-b576-0f15d9f86702",
   "metadata": {},
   "outputs": [],
   "source": [
    "def insertion_sort(arr):\n",
    "    for i in range(1, len(arr)):\n",
    "        key = arr[i]   # Current element to insert\n",
    "        j = i - 1\n",
    "        \n",
    "        # Move elements of arr[0..i-1], that are greater than key,\n",
    "        # to one position ahead of their current position\n",
    "        while j >= 0 and arr[j] > key:\n",
    "            arr[j+1] = arr[j]\n",
    "            j -= 1\n",
    "        \n",
    "        # Insert the key at the correct position\n",
    "        arr[j+1] = key"
   ]
  },
  {
   "cell_type": "code",
   "execution_count": 8,
   "id": "4f250028-7bf0-4221-86fd-14f7829616cf",
   "metadata": {},
   "outputs": [],
   "source": [
    "def selection_sort(arr):\n",
    "    n = len(arr)\n",
    "    \n",
    "    for i in range(n):\n",
    "        min_index = i  # Assume the minimum is at position i\n",
    "\n",
    "        # Find the minimum element in the unsorted part\n",
    "        for j in range(i+1, n):\n",
    "            if arr[j] < arr[min_index]:\n",
    "                min_index = j\n",
    "        \n",
    "        # Swap the found minimum with the first unsorted element\n",
    "        arr[i], arr[min_index] = arr[min_index], arr[i]"
   ]
  },
  {
   "cell_type": "code",
   "execution_count": 2,
   "id": "d4c3691c-dc1d-4384-ab00-c2ed4393b266",
   "metadata": {},
   "outputs": [
    {
     "name": "stdout",
     "output_type": "stream",
     "text": [
      "[1, 2, 3, 4, 5, 6]\n"
     ]
    }
   ],
   "source": [
    "'''Insertion sort is a simple sorting algorithm that works similar to the way you sort playing cards in your hands. The array is virtually split into a sorted and an unsorted part. Values from the unsorted part are picked and placed at the correct position in the sorted part.\n",
    "\n",
    "Characteristics of Insertion Sort:\n",
    "\n",
    "This algorithm is one of the simplest algorithm with simple implementation\n",
    "Basically, Insertion sort is efficient for small data values\n",
    "Insertion sort is adaptive in nature, i.e. it is appropriate for data sets which are already partially sorted.'''\n",
    "\n",
    "def insertion_sort(arr):\n",
    "    for i in range(1, len(arr)):\n",
    "        key = arr[i]\n",
    "        j = i - 1\n",
    "\n",
    "        while j >= 0 and arr[j] > key:\n",
    "            arr[j + 1] = arr[j]\n",
    "            j -= 1\n",
    "\n",
    "        arr[j + 1] = key\n",
    "    return arr\n",
    "\n",
    "# Example\n",
    "arr = [5, 2, 4, 6, 1, 3]\n",
    "print(insertion_sort(arr))"
   ]
  },
  {
   "cell_type": "code",
   "execution_count": 4,
   "id": "549cace4-74b1-43af-aa48-f6fadc73a1bc",
   "metadata": {},
   "outputs": [
    {
     "name": "stdout",
     "output_type": "stream",
     "text": [
      "[1, 2, 3, 4, 5, 6]\n"
     ]
    }
   ],
   "source": [
    "def merge_sorted_arrays(arr1, arr2):\n",
    "    i = j = k = 0  # Initialize pointers for arr1, arr2, and arr3\n",
    "    arr3 = [0] * (len(arr1) + len(arr2))  # Create a new array to hold the merged result\n",
    "\n",
    "    # Traverse both arrays and compare elements\n",
    "    while i < len(arr1) and j < len(arr2):\n",
    "        if arr1[i] < arr2[j]:\n",
    "            arr3[k] = arr1[i]  # If current element in arr1 is smaller, add it to arr3\n",
    "            i += 1  # Move pointer in arr1\n",
    "        else:\n",
    "            arr3[k] = arr2[j]  # Else, add element from arr2 to arr3\n",
    "            j += 1  # Move pointer in arr2\n",
    "        k += 1  # Move pointer in arr3\n",
    "\n",
    "    # Copy remaining elements from arr1, if any\n",
    "    while i < len(arr1):\n",
    "        arr3[k] = arr1[i]\n",
    "        i += 1\n",
    "        k += 1\n",
    "\n",
    "    # Copy remaining elements from arr2, if any\n",
    "    while j < len(arr2):\n",
    "        arr3[k] = arr2[j]\n",
    "        j += 1\n",
    "        k += 1\n",
    "\n",
    "    return arr3  # Return the merged sorted array\n",
    "\n",
    "# Example usage\n",
    "arr1 = [1, 3, 5]\n",
    "arr2 = [2, 4, 6]\n",
    "print(merge_sorted_arrays(arr1, arr2))"
   ]
  },
  {
   "cell_type": "code",
   "execution_count": null,
   "id": "1c309b58-1451-46c9-99da-2be35fc72f09",
   "metadata": {},
   "outputs": [],
   "source": []
  }
 ],
 "metadata": {
  "kernelspec": {
   "display_name": "Python [conda env:base] *",
   "language": "python",
   "name": "conda-base-py"
  },
  "language_info": {
   "codemirror_mode": {
    "name": "ipython",
    "version": 3
   },
   "file_extension": ".py",
   "mimetype": "text/x-python",
   "name": "python",
   "nbconvert_exporter": "python",
   "pygments_lexer": "ipython3",
   "version": "3.12.7"
  }
 },
 "nbformat": 4,
 "nbformat_minor": 5
}
