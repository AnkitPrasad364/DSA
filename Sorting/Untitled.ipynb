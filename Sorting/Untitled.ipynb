{
 "cells": [
  {
   "cell_type": "code",
   "execution_count": 4,
   "id": "f4056cb7-43cc-45e1-90aa-53f3e4a2e4c8",
   "metadata": {},
   "outputs": [],
   "source": [
    "#Bubble sort\n",
    "# Bubble Sort Function\n",
    "def bubble_sort(arr):\n",
    "    n = len(arr)\n",
    "    \n",
    "    # Outer loop for each pass\n",
    "    for i in range(n-1):\n",
    "        \n",
    "        # Inner loop for comparing adjacent elements\n",
    "        for j in range(n-1-i):\n",
    "            if arr[j] > arr[j+1]:\n",
    "                # Swap if elements are in wrong order\n",
    "                arr[j], arr[j+1] = arr[j+1], arr[j]"
   ]
  },
  {
   "cell_type": "code",
   "execution_count": 6,
   "id": "e70c5dbf-02cb-4e98-b576-0f15d9f86702",
   "metadata": {},
   "outputs": [],
   "source": [
    "def insertion_sort(arr):\n",
    "    for i in range(1, len(arr)):\n",
    "        key = arr[i]   # Current element to insert\n",
    "        j = i - 1\n",
    "        \n",
    "        # Move elements of arr[0..i-1], that are greater than key,\n",
    "        # to one position ahead of their current position\n",
    "        while j >= 0 and arr[j] > key:\n",
    "            arr[j+1] = arr[j]\n",
    "            j -= 1\n",
    "        \n",
    "        # Insert the key at the correct position\n",
    "        arr[j+1] = key"
   ]
  },
  {
   "cell_type": "code",
   "execution_count": 8,
   "id": "4f250028-7bf0-4221-86fd-14f7829616cf",
   "metadata": {},
   "outputs": [],
   "source": [
    "def selection_sort(arr):\n",
    "    n = len(arr)\n",
    "    \n",
    "    for i in range(n):\n",
    "        min_index = i  # Assume the minimum is at position i\n",
    "\n",
    "        # Find the minimum element in the unsorted part\n",
    "        for j in range(i+1, n):\n",
    "            if arr[j] < arr[min_index]:\n",
    "                min_index = j\n",
    "        \n",
    "        # Swap the found minimum with the first unsorted element\n",
    "        arr[i], arr[min_index] = arr[min_index], arr[i]"
   ]
  },
  {
   "cell_type": "code",
   "execution_count": 2,
   "id": "d4c3691c-dc1d-4384-ab00-c2ed4393b266",
   "metadata": {},
   "outputs": [
    {
     "name": "stdout",
     "output_type": "stream",
     "text": [
      "[1, 2, 3, 4, 5, 6]\n"
     ]
    }
   ],
   "source": [
    "'''Insertion sort is a simple sorting algorithm that works similar to the way you sort playing cards in your hands. The array is virtually split into a sorted and an unsorted part. Values from the unsorted part are picked and placed at the correct position in the sorted part.\n",
    "\n",
    "Characteristics of Insertion Sort:\n",
    "\n",
    "This algorithm is one of the simplest algorithm with simple implementation\n",
    "Basically, Insertion sort is efficient for small data values\n",
    "Insertion sort is adaptive in nature, i.e. it is appropriate for data sets which are already partially sorted.'''\n",
    "\n",
    "def insertion_sort(arr):\n",
    "    for i in range(1, len(arr)):\n",
    "        key = arr[i]\n",
    "        j = i - 1\n",
    "\n",
    "        while j >= 0 and arr[j] > key:\n",
    "            arr[j + 1] = arr[j]\n",
    "            j -= 1\n",
    "\n",
    "        arr[j + 1] = key\n",
    "    return arr\n",
    "\n",
    "# Example\n",
    "arr = [5, 2, 4, 6, 1, 3]\n",
    "print(insertion_sort(arr))"
   ]
  },
  {
   "cell_type": "code",
   "execution_count": 4,
   "id": "549cace4-74b1-43af-aa48-f6fadc73a1bc",
   "metadata": {},
   "outputs": [
    {
     "name": "stdout",
     "output_type": "stream",
     "text": [
      "[1, 2, 3, 4, 5, 6]\n"
     ]
    }
   ],
   "source": [
    "def merge_sorted_arrays(arr1, arr2):\n",
    "    i = j = k = 0  # Initialize pointers for arr1, arr2, and arr3\n",
    "    arr3 = [0] * (len(arr1) + len(arr2))  # Create a new array to hold the merged result\n",
    "\n",
    "    # Traverse both arrays and compare elements\n",
    "    while i < len(arr1) and j < len(arr2):\n",
    "        if arr1[i] < arr2[j]:\n",
    "            arr3[k] = arr1[i]  # If current element in arr1 is smaller, add it to arr3\n",
    "            i += 1  # Move pointer in arr1\n",
    "        else:\n",
    "            arr3[k] = arr2[j]  # Else, add element from arr2 to arr3\n",
    "            j += 1  # Move pointer in arr2\n",
    "        k += 1  # Move pointer in arr3\n",
    "\n",
    "    # Copy remaining elements from arr1, if any\n",
    "    while i < len(arr1):\n",
    "        arr3[k] = arr1[i]\n",
    "        i += 1\n",
    "        k += 1\n",
    "\n",
    "    # Copy remaining elements from arr2, if any\n",
    "    while j < len(arr2):\n",
    "        arr3[k] = arr2[j]\n",
    "        j += 1\n",
    "        k += 1\n",
    "\n",
    "    return arr3  # Return the merged sorted array\n",
    "\n",
    "# Example usage\n",
    "arr1 = [1, 3, 5]\n",
    "arr2 = [2, 4, 6]\n",
    "print(merge_sorted_arrays(arr1, arr2))"
   ]
  },
  {
   "cell_type": "code",
   "execution_count": 2,
   "id": "1c309b58-1451-46c9-99da-2be35fc72f09",
   "metadata": {},
   "outputs": [
    {
     "name": "stdout",
     "output_type": "stream",
     "text": [
      "[2, 3]\n"
     ]
    }
   ],
   "source": [
    "def intersection(arr1, arr2):\n",
    "    i, j = 0, 0\n",
    "    m, n = len(arr1), len(arr2)\n",
    "    result = []\n",
    "\n",
    "    while i < m and j < n:\n",
    "        # Skip duplicates in arr1\n",
    "        if i > 0 and arr1[i] == arr1[i - 1]:\n",
    "            i += 1\n",
    "            continue\n",
    "\n",
    "        if arr1[i] < arr2[j]:\n",
    "            i += 1\n",
    "        elif arr1[i] > arr2[j]:\n",
    "            j += 1\n",
    "        else:\n",
    "            result.append(arr1[i])\n",
    "            i += 1\n",
    "            j += 1\n",
    "\n",
    "    return result\n",
    "\n",
    "# Example usage\n",
    "arr1 = [1, 2, 2, 3, 4]\n",
    "arr2 = [2, 2, 3, 5]\n",
    "print(intersection(arr1, arr2))  # Output: [2, 3]"
   ]
  },
  {
   "cell_type": "code",
   "execution_count": 4,
   "id": "e9b3f0d9-620d-48e4-9608-65b194e5b130",
   "metadata": {},
   "outputs": [
    {
     "name": "stdout",
     "output_type": "stream",
     "text": [
      "[1, 2, 3, 4, 5]\n"
     ]
    }
   ],
   "source": [
    "#Union of two sorted arrays\n",
    "def union(arr1, arr2):\n",
    "    i, j = 0, 0\n",
    "    m, n = len(arr1), len(arr2)\n",
    "    result = []\n",
    "\n",
    "    while i < m and j < n:\n",
    "        # Skip duplicates in arr1\n",
    "        if i > 0 and arr1[i] == arr1[i - 1]:\n",
    "            i += 1\n",
    "            continue\n",
    "        # Skip duplicates in arr2\n",
    "        if j > 0 and arr2[j] == arr2[j - 1]:\n",
    "            j += 1\n",
    "            continue\n",
    "\n",
    "        if arr1[i] < arr2[j]:\n",
    "            result.append(arr1[i])\n",
    "            i += 1\n",
    "        elif arr1[i] > arr2[j]:\n",
    "            result.append(arr2[j])\n",
    "            j += 1\n",
    "        else:\n",
    "            result.append(arr1[i])\n",
    "            i += 1\n",
    "            j += 1\n",
    "\n",
    "    # Add remaining elements from arr1\n",
    "    while i < m:\n",
    "        if i == 0 or arr1[i] != arr1[i - 1]:\n",
    "            result.append(arr1[i])\n",
    "        i += 1\n",
    "\n",
    "    # Add remaining elements from arr2\n",
    "    while j < n:\n",
    "        if j == 0 or arr2[j] != arr2[j - 1]:\n",
    "            result.append(arr2[j])\n",
    "        j += 1\n",
    "\n",
    "    return result\n",
    "\n",
    "# Example usage\n",
    "arr1 = [1, 2, 2, 3, 4]\n",
    "arr2 = [2, 3, 5, 5]\n",
    "print(union(arr1, arr2))  # Output: [1, 2, 3, 4, 5]\n"
   ]
  },
  {
   "cell_type": "code",
   "execution_count": 6,
   "id": "7f0ff986-1f56-46be-8585-f14f90a19bfd",
   "metadata": {},
   "outputs": [
    {
     "name": "stdout",
     "output_type": "stream",
     "text": [
      "3\n"
     ]
    }
   ],
   "source": [
    "#Count invrsion\n",
    "def count_inversions(arr):\n",
    "    # Recursive merge sort that returns sorted array and inversion count\n",
    "    def merge_sort(arr):\n",
    "        if len(arr) <= 1:\n",
    "            return arr, 0  # Base case: single element has 0 inversions\n",
    "        \n",
    "        mid = len(arr) // 2\n",
    "        # Recursively sort left and right halves\n",
    "        left, inv_left = merge_sort(arr[:mid])\n",
    "        right, inv_right = merge_sort(arr[mid:])\n",
    "        \n",
    "        # Merge the two halves and count split inversions\n",
    "        merged, inv_split = merge(left, right)\n",
    "        \n",
    "        # Total inversions = left + right + split\n",
    "        return merged, inv_left + inv_right + inv_split\n",
    "\n",
    "    # Merge two sorted arrays and count split inversions\n",
    "    def merge(left, right):\n",
    "        i = j = inv_count = 0\n",
    "        merged = []\n",
    "        \n",
    "        # Merge process\n",
    "        while i < len(left) and j < len(right):\n",
    "            if left[i] <= right[j]:\n",
    "                merged.append(left[i])\n",
    "                i += 1\n",
    "            else:\n",
    "                merged.append(right[j])\n",
    "                # All remaining elements in left[i:] are greater than right[j]\n",
    "                inv_count += len(left) - i\n",
    "                j += 1\n",
    "\n",
    "        # Add any remaining elements\n",
    "        merged.extend(left[i:])\n",
    "        merged.extend(right[j:])\n",
    "        \n",
    "        return merged, inv_count\n",
    "\n",
    "    # Start the modified merge sort\n",
    "    _, total_inversions = merge_sort(arr)\n",
    "    return total_inversions\n",
    "\n",
    "# Example usage\n",
    "arr = [2, 4, 1, 3, 5]\n",
    "print(count_inversions(arr))  # Output: 3"
   ]
  },
  {
   "cell_type": "code",
   "execution_count": null,
   "id": "ce9b56c9-9c5b-403d-a5f6-b11d368db886",
   "metadata": {},
   "outputs": [],
   "source": []
  }
 ],
 "metadata": {
  "kernelspec": {
   "display_name": "Python [conda env:base] *",
   "language": "python",
   "name": "conda-base-py"
  },
  "language_info": {
   "codemirror_mode": {
    "name": "ipython",
    "version": 3
   },
   "file_extension": ".py",
   "mimetype": "text/x-python",
   "name": "python",
   "nbconvert_exporter": "python",
   "pygments_lexer": "ipython3",
   "version": "3.12.7"
  }
 },
 "nbformat": 4,
 "nbformat_minor": 5
}
