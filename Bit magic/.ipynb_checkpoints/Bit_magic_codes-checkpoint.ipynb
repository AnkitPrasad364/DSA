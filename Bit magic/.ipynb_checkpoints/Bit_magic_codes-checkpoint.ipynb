{
 "cells": [
  {
   "cell_type": "code",
   "execution_count": 2,
   "id": "8aeffcd4-6e00-4255-bff1-89e3ae0c0cdc",
   "metadata": {},
   "outputs": [
    {
     "name": "stdout",
     "output_type": "stream",
     "text": [
      "True\n",
      "False\n"
     ]
    }
   ],
   "source": [
    "def is_kth_bit_set(n: int, k: int) -> bool:\n",
    "    \"\"\"\n",
    "    Function to check if the k-th bit of number n is set (1) or not (0).\n",
    "    \n",
    "    :param n: Integer number\n",
    "    :param k: Bit position (0-based index)\n",
    "    :return: True if k-th bit is set, False otherwise\n",
    "    \"\"\"\n",
    "    return (n & (1 << k)) != 0  # Shift 1 left by k places and use AND operation\n",
    "\n",
    "# Example Usage:\n",
    "n = 5  # Binary: 101\n",
    "k = 2\n",
    "print(is_kth_bit_set(n, k))  # Output: True (since 2nd bit in 101 is 1)\n",
    "\n",
    "k = 1\n",
    "print(is_kth_bit_set(n, k))  # Output: False (since 1st bit in 101 is 0)"
   ]
  },
  {
   "cell_type": "code",
   "execution_count": null,
   "id": "004f9117-edb2-41e5-9fde-56af5e9d3c9f",
   "metadata": {},
   "outputs": [],
   "source": []
  }
 ],
 "metadata": {
  "kernelspec": {
   "display_name": "Python [conda env:base] *",
   "language": "python",
   "name": "conda-base-py"
  },
  "language_info": {
   "codemirror_mode": {
    "name": "ipython",
    "version": 3
   },
   "file_extension": ".py",
   "mimetype": "text/x-python",
   "name": "python",
   "nbconvert_exporter": "python",
   "pygments_lexer": "ipython3",
   "version": "3.12.7"
  }
 },
 "nbformat": 4,
 "nbformat_minor": 5
}
