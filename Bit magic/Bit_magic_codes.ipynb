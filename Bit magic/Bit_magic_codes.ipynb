{
 "cells": [
  {
   "cell_type": "code",
   "execution_count": 2,
   "id": "8aeffcd4-6e00-4255-bff1-89e3ae0c0cdc",
   "metadata": {},
   "outputs": [
    {
     "name": "stdout",
     "output_type": "stream",
     "text": [
      "True\n",
      "False\n"
     ]
    }
   ],
   "source": [
    "def is_kth_bit_set(n: int, k: int) -> bool:\n",
    "    \"\"\"\n",
    "    Function to check if the k-th bit of number n is set (1) or not (0).\n",
    "    \n",
    "    :param n: Integer number\n",
    "    :param k: Bit position (0-based index)\n",
    "    :return: True if k-th bit is set, False otherwise\n",
    "    \"\"\"\n",
    "    return (n & (1 << k)) != 0  # Shift 1 left by k places and use AND operation\n",
    "\n",
    "# Example Usage:\n",
    "n = 5  # Binary: 101\n",
    "k = 2\n",
    "print(is_kth_bit_set(n, k))  # Output: True (since 2nd bit in 101 is 1)\n",
    "\n",
    "k = 1\n",
    "print(is_kth_bit_set(n, k))  # Output: False (since 1st bit in 101 is 0)"
   ]
  },
  {
   "cell_type": "code",
   "execution_count": 4,
   "id": "004f9117-edb2-41e5-9fde-56af5e9d3c9f",
   "metadata": {},
   "outputs": [
    {
     "name": "stdout",
     "output_type": "stream",
     "text": [
      "4\n"
     ]
    }
   ],
   "source": [
    "#Naive solution\n",
    "def count_set_bits_naive(n):\n",
    "    count = 0\n",
    "    while n > 0:\n",
    "        count += n & 1  # Check if LSB is 1\n",
    "        n >>= 1         # Shift right\n",
    "    return count\n",
    "\n",
    "# Example\n",
    "print(count_set_bits_naive(29))  # Output: 4 (Binary: 11101)"
   ]
  },
  {
   "cell_type": "code",
   "execution_count": 6,
   "id": "633b893a-6c20-4ff4-9d23-f7a12491c675",
   "metadata": {},
   "outputs": [
    {
     "name": "stdout",
     "output_type": "stream",
     "text": [
      "4\n"
     ]
    }
   ],
   "source": [
    "\"\"\"\n",
    "Brian Kernighan’s Algorithm for Counting Set Bits\n",
    "\n",
    "This is an optimized approach to count the number of set bits in an integer. Instead of checking each bit individually, it efficiently removes the rightmost set bit in each iteration.\n",
    "\n",
    "⸻\n",
    "\n",
    "Approach:\n",
    "\t1.\tInitialize count = 0.\n",
    "\t2.\tWhile n is not zero:\n",
    "\t•\tPerform n = n & (n - 1), which removes the rightmost 1 bit.\n",
    "\t•\tIncrement count.\n",
    "\t3.\tReturn count.\n",
    "\n",
    "Each iteration removes one set bit, so the number of iterations is equal to the number of 1s in n.\n",
    "\n",
    "Time Complexity Analysis\n",
    "\t•\tEach iteration removes one set bit.\n",
    "\t•\tRuns O(number of set bits) times.\n",
    "\t•\tWorst-case complexity: O(log N) (when all bits are set, e.g., n = 111...111).\n",
    "\"\"\"\n",
    "def count_set_bits_brian(n):\n",
    "    count = 0\n",
    "    while n:\n",
    "        n &= (n - 1)  # Drops the lowest set bit\n",
    "        count += 1\n",
    "    return count\n",
    "\n",
    "# Example\n",
    "print(count_set_bits_brian(29))  # Output: 4 (Binary: 11101)"
   ]
  },
  {
   "cell_type": "code",
   "execution_count": 8,
   "id": "2ac671e9-19b1-4062-8122-2631f56dd33d",
   "metadata": {},
   "outputs": [
    {
     "name": "stdout",
     "output_type": "stream",
     "text": [
      "4\n"
     ]
    }
   ],
   "source": [
    "\"\"\"\n",
    "Lookup Table Method for Counting Set Bits\n",
    "\n",
    "This approach precomputes the number of set bits for all 8-bit numbers (0 to 255) and then uses a lookup table to quickly get the answer for larger numbers.\n",
    "\n",
    "⸻\n",
    "\n",
    "Approach:\n",
    "\t1.\tPrecompute the number of set bits for all 8-bit numbers (0–255).\n",
    "\t2.\tDivide the input number into 4 bytes (for a 32-bit integer).\n",
    "\t3.\tLookup the precomputed values for each byte and sum them.\n",
    "\n",
    "Since each byte takes O(1) time to lookup, this solution runs in O(1) for 32-bit numbers after preprocessing.\"\"\"\n",
    "# Step 1: Precompute the set bits for all 8-bit numbers\n",
    "lookup = [bin(i).count('1') for i in range(256)]\n",
    "\n",
    "def count_set_bits_lookup(n):\n",
    "    return (lookup[n & 0xff] +           # First 8 bits\n",
    "            lookup[(n >> 8) & 0xff] +    # Next 8 bits\n",
    "            lookup[(n >> 16) & 0xff] +   # Next 8 bits\n",
    "            lookup[(n >> 24) & 0xff])    # Last 8 bits\n",
    "\n",
    "# Example\n",
    "print(count_set_bits_lookup(29))  # Output: 4 (Binary: 11101)"
   ]
  },
  {
   "cell_type": "code",
   "execution_count": 10,
   "id": "2f59e280-23b2-4ba7-a75e-bcc8dcbf5736",
   "metadata": {},
   "outputs": [
    {
     "name": "stdout",
     "output_type": "stream",
     "text": [
      "True\n",
      "False\n",
      "True\n",
      "False\n",
      "True\n"
     ]
    }
   ],
   "source": [
    "\"\"\"\n",
    "Optimal Approach: Using Bitwise Trick\n",
    "\n",
    "A power of 2 has exactly one set bit, so we can use n & (n - 1) == 0 to check:\n",
    "\t•\tn & (n - 1) removes the rightmost set bit.\n",
    "\t•\tIf the result is 0, then n had only one set bit → it’s a power of 2.\"\"\"\n",
    "def is_power_of_two(n):\n",
    "    return n > 0 and (n & (n - 1)) == 0\n",
    "    #if zero is considered as power of 2\n",
    "    # return n >= 0 and (n & (n - 1)) == 0  # Allows 0 as a power of 2\n",
    "\n",
    "\n",
    "# Examples\n",
    "print(is_power_of_two(8))   # True (1000₂)\n",
    "print(is_power_of_two(7))   # False (0111₂)\n",
    "print(is_power_of_two(16))  # True (10000₂)\n",
    "print(is_power_of_two(0))   # False\n",
    "print(is_power_of_two(1))   # True (2⁰ = 1)"
   ]
  },
  {
   "cell_type": "code",
   "execution_count": 14,
   "id": "6dfce6a2-3e89-41d5-99dc-7f74004df1ae",
   "metadata": {},
   "outputs": [
    {
     "name": "stdout",
     "output_type": "stream",
     "text": [
      "2\n"
     ]
    }
   ],
   "source": [
    "def find_odd_occurence(arr):\n",
    "    result=0\n",
    "    for num in arr:\n",
    "        result ^=num    #XOR operation\n",
    "    return result\n",
    "arr=[1,2,1,1,1,2,2,2,2,4,4]\n",
    "print(find_odd_occurence(arr))"
   ]
  },
  {
   "cell_type": "code",
   "execution_count": 20,
   "id": "ab6e40fe-8093-4f14-82dc-7c86b1abb133",
   "metadata": {},
   "outputs": [
    {
     "name": "stdout",
     "output_type": "stream",
     "text": [
      "(7, 3)\n"
     ]
    }
   ],
   "source": [
    "def find_two_odd_occurring(arr):\n",
    "    # Step 1: XOR all elements in the array\n",
    "    # This cancels out all even-occurring numbers and results in xor_all = x ⊕ y\n",
    "    xor_all = 0\n",
    "    for num in arr:\n",
    "        xor_all ^= num  # XOR of all elements\n",
    "\n",
    "    # Step 2: Find the rightmost set bit in xor_all\n",
    "    # This is the first position where the two odd-occurring numbers differ\n",
    "    rightmost_set_bit = xor_all & -xor_all  # Isolate the rightmost set bit\n",
    "\n",
    "    # Step 3: Divide numbers into two groups based on the rightmost set bit\n",
    "    x = 0  # First odd-occurring number\n",
    "    y = 0  # Second odd-occurring number\n",
    "\n",
    "    for num in arr:\n",
    "        # If the rightmost set bit is present in this number, XOR it into x\n",
    "        if num & rightmost_set_bit:\n",
    "            x ^= num  \n",
    "        else:  # Otherwise, XOR it into y\n",
    "            y ^= num  \n",
    "\n",
    "    return x, y  # Return the two odd-occurring numbers\n",
    "\n",
    "# Example usage\n",
    "arr = [4, 3, 4, 4, 4, 5, 5, 3, 3, 3, 3, 7]\n",
    "\n",
    "# Step-by-step explanation using this input:\n",
    "# Binary representation of numbers:\n",
    "# 4  -> 0100\n",
    "# 3  -> 0011\n",
    "# 4  -> 0100\n",
    "# 4  -> 0100\n",
    "# 4  -> 0100\n",
    "# 5  -> 0101\n",
    "# 5  -> 0101\n",
    "# 3  -> 0011\n",
    "# 3  -> 0011\n",
    "# 3  -> 0011\n",
    "# 3  -> 0011\n",
    "# 7  -> 0111\n",
    "\n",
    "# XOR of all numbers cancels out even-occurring numbers, leaving:\n",
    "# xor_all = 4 ⊕ 7 = 3 (Binary: 0011)\n",
    "\n",
    "# The rightmost set bit in 3 (0011) is at position 1 (0001)\n",
    "# So we separate numbers into two groups:\n",
    "# Group 1 (bit at position 1 is SET):   3, 3, 3, 3, 7\n",
    "# Group 2 (bit at position 1 is NOT set): 4, 4, 4, 4, 5, 5\n",
    "\n",
    "# XOR Group 1: 3 ⊕ 3 ⊕ 3 ⊕ 3 ⊕ 7 = 7\n",
    "# XOR Group 2: 4 ⊕ 4 ⊕ 4 ⊕ 4 ⊕ 5 ⊕ 5 = 4\n",
    "\n",
    "# So, output:\n",
    "print(find_two_odd_occurring(arr))  # Output: (7, 4) or (4, 7)"
   ]
  },
  {
   "cell_type": "code",
   "execution_count": 22,
   "id": "bc7e700c-4ecc-4802-adc8-e530bf16312e",
   "metadata": {},
   "outputs": [
    {
     "name": "stdout",
     "output_type": "stream",
     "text": [
      "[[], [1], [2], [1, 2], [3], [1, 3], [2, 3], [1, 2, 3]]\n"
     ]
    }
   ],
   "source": [
    "\"\"\"\n",
    "The power set of a given set is the collection of all its subsets, including the empty set and the set itself. A common approach to generating the power set efficiently is using bitwise operations.\n",
    "\n",
    "Bitwise Approach Explanation\n",
    "\n",
    "For a set of size n, there are 2^n subsets. We can represent each subset using an integer from 0 to 2^n - 1, where the binary representation of the integer indicates which elements are included in the subset.\n",
    "\t•\tIf the j-th bit in the binary representation of a number is 1, include the j-th element of the original set in the subset.\n",
    "\t•\tIf the j-th bit is 0, exclude it.\n",
    "    Explanation\n",
    "\t1.\t1 << n computes 2^n, which is the total number of subsets.\n",
    "\t2.\tWe iterate over numbers from 0 to 2^n - 1.\n",
    "\t3.\tFor each number i, check each bit position:\n",
    "\t•\tIf i & (1 << j) is nonzero, include arr[j] in the subset.\n",
    "\t4.\tCollect all subsets and return.\"\"\"\n",
    "def power_set(arr):\n",
    "    n = len(arr)\n",
    "    result = []\n",
    "    \n",
    "    # Loop through all possible subset combinations (2^n)\n",
    "    for i in range(1 << n):  # 1 << n is 2^n\n",
    "        subset = [arr[j] for j in range(n) if (i & (1 << j)) > 0]\n",
    "        result.append(subset)\n",
    "    \n",
    "    return result\n",
    "\n",
    "# Example usage\n",
    "arr = [1, 2, 3]\n",
    "print(power_set(arr))"
   ]
  },
  {
   "cell_type": "code",
   "execution_count": null,
   "id": "e0c23d39-1522-45c3-8603-1f04d175f572",
   "metadata": {},
   "outputs": [],
   "source": []
  }
 ],
 "metadata": {
  "kernelspec": {
   "display_name": "Python [conda env:base] *",
   "language": "python",
   "name": "conda-base-py"
  },
  "language_info": {
   "codemirror_mode": {
    "name": "ipython",
    "version": 3
   },
   "file_extension": ".py",
   "mimetype": "text/x-python",
   "name": "python",
   "nbconvert_exporter": "python",
   "pygments_lexer": "ipython3",
   "version": "3.12.7"
  }
 },
 "nbformat": 4,
 "nbformat_minor": 5
}
